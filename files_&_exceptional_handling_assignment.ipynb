{
  "nbformat": 4,
  "nbformat_minor": 0,
  "metadata": {
    "colab": {
      "provenance": []
    },
    "kernelspec": {
      "name": "python3",
      "display_name": "Python 3"
    },
    "language_info": {
      "name": "python"
    }
  },
  "cells": [
    {
      "cell_type": "markdown",
      "source": [
        "1. What is the Difference between Interpreted and Compiled Languages?\n",
        "\n",
        "  - Interpreted languages are executed line by line by an interpreter, which translates the code into machine-readable instructions during runtime. Examples include Python, JavaScript, and Ruby. Compiled languages are translated into machine code by a compiler before execution. This compiled code can then be run directly by the computer's processor. Examples include C, C++, and Java.\n",
        "\n",
        "2. What is the Exception Handling in Python?\n",
        "\n",
        "  - Exception handling in Python is a mechanism to deal with runtime errors that interrupt the normal flow of a program. It allows you to gracefully manage errors and prevent your program from crashing.\n",
        "\n",
        "3. What is the Purpose of the finally block in exception handling?\n",
        "  - The finally block in exception handling is used to define code that will always be executed, regardless of whether an exception occurred or not. It's commonly used for cleanup operations like closing files or releasing resources.\n",
        "\n",
        "4. What is Logging in Python?\n",
        "  - Logging in Python is a way to track events that happen during the execution of a program. It provides a flexible framework for writing status messages, errors, warnings, and other information to various output destinations like files, console, or network.\n",
        "\n",
        "5. What is the Significance of the __del__ method in Python?\n",
        "  - The __del__ method, also known as the destructor, is a special method in Python that is called when an object is about to be destroyed (i.e., its reference count drops to zero). It's used for cleanup operations before an object is garbage collected.\n",
        "\n",
        "6. What is the  Difference between import and from importin python?\n",
        "  - import module_name: Imports the entire module, and you access its components using module_name.component_name.\n",
        "from module_name import component_name: Imports specific components (functions, classes, variables) directly from the module, allowing you to use them without prefixing with the module name.\n",
        "\n",
        "7. Handling Multiple Exceptions in Python?\n",
        "\n",
        "  - You can handle multiple exceptions in Python using:\n",
        "Multiple except blocks: Each except block handles a specific type of exception.\n",
        "A single except block with a tuple: You can list multiple exception types within a tuple in a single except block.\n",
        "\n",
        "8. What is the Purpose of the with statement for file handling in python?\n",
        "  - The with statement in Python is used for resource management, particularly in file handling. It ensures that a resource (like a file) is properly closed after its use, even if errors occur, by automatically calling cleanup methods.\n",
        "\n",
        "9. what is the Difference between Multithreading and Multiprocessing\n",
        "   - Multithreading: Involves multiple threads within a single process, sharing the same memory space. It's suitable for I/O-bound tasks.\n",
        "Multiprocessing: Involves multiple independent processes, each with its own memory space. It's suitable for CPU-bound tasks as it can utilize multiple CPU cores.\n",
        "\n",
        "10. What are the Advantages of using Logging in a Program\n",
        "  - Debugging: Helps in identifying and resolving issues.\n",
        "Monitoring: Provides insights into program behavior.\n",
        "Auditing: Records events for security or compliance.\n",
        "Error Tracking: Centralizes error reporting.\n",
        "\n",
        "11.What are Memory Management in Python?\n",
        "  - Python's memory management involves a private heap to store objects and a garbage collector to reclaim memory from objects that are no longer referenced.\n",
        "12. what are the Basic Steps involved in Exception Handling?\n",
        "  - 1.try block: Contains the code that might raise an exception.\n",
        "  - 2.except block(s): Catches and handles specific exceptions.\n",
        "  - 3.else block (optional): Executes if no exception occurs in the try block.\n",
        "  - 4.finally block (optional): Executes regardless of whether an exception occurred.\n",
        "\n",
        "13. what is Memory Management in Python?\n",
        "\n",
        "      - Efficient memory management is crucial for:\n",
        "  - Performance: Prevents memory leaks and ensures efficient resource utilization.\n",
        "  - Stability: Reduces the likelihood of crashes due to out-of-memory errors.\n",
        "  - Scalability: Allows programs to handle larger datasets and more complex operations.\n",
        "\n",
        "14. What is the Role of try and except in Exception Handling?\n",
        "  - The try block encloses the code where an exception might occur.\n",
        "The except block specifies how to handle a particular type of exception if it occurs within the try block.\n",
        "\n",
        "15. How Python's Garbage Collection System Works?\n",
        "  - Python's garbage collection primarily uses reference counting to track object references. When an object's reference count drops to zero, it's considered for deallocation. It also includes a cyclic garbage collector to handle reference cycles.\n",
        "\n",
        "16. What is the Purpose of the else block in Exception Handling?\n",
        "  - The else block in exception handling is executed only if no exception occurs within the try block. It's useful for placing code that should run only when the try block completes successfully.\n",
        "\n",
        "17. What is the Common Logging Levels in Python?\n",
        "  - The common logging levels in Python, in increasing order of severity, are:\n",
        "  - DEBUG\n",
        "  - INFO\n",
        "  - WARNING\n",
        "  - ERROR\n",
        "  - CRITICAL\n",
        "\n",
        "18. What is the Difference between os.fork and Multiprocessing?\n",
        "  - os.fork: A lower-level system call that creates a new process by duplicating the current process. It's specific to Unix-like systems.\n",
        "Multiprocessing module: Provides a higher-level, platform-independent way to create and manage processes, offering more features and easier usage than os.fork.\n",
        "\n",
        "19. What is the Importance of Closing a File in Python?\n",
        "  - It is important to close a file in Python after use to:\n",
        "Release resources: Frees up system resources held by the open file.\n",
        "Ensure data integrity: Flushes any buffered data to the disk, preventing data loss.\n",
        "  - Prevent resource leaks: Avoids exhausting system limits on open files.\n",
        "\n",
        "20. What is the Difference between file.read() and file.readline()?\n",
        "  - file.read(): Reads the entire content of the file as a single string.\n",
        "  - file.readline(): Reads a single line from the file at a time.\n",
        "\n",
        "21. What is the Logging Module in Python used for?\n",
        "  - The logging module in Python provides a flexible and powerful framework for emitting log messages from applications and libraries. It's used for debugging, monitoring, and auditing purposes.\n",
        "\n",
        "22. What is the os Module in Python used for in File Handling?\n",
        "  - The os module in Python provides a way to interact with the operating system, including functions for file and directory operations like creating, deleting, renaming, and listing files and directories.\n",
        "\n",
        "23. Challenges Associated with Memory Management in Python\n",
        "  - Challenges include:\n",
        "  - Memory leaks: Unreferenced objects not being garbage collected.\n",
        "  - Performance overhead: Garbage collection can introduce pauses.\n",
        "  - Understanding reference counting: Can be complex for beginners.\n",
        "\n",
        "24. How to Raise an Exception Manually in Python?\n",
        "  - You can raise an exception manually in Python using the raise statement followed by the exception type and an optional error message, e.g., raise ValueError(\"Invalid input\").\n",
        "\n",
        "25. Why is it important to use Multithreading in certain applications?\n",
        "  - Multithreading is important in applications that involve:\n",
        "I/O-bound operations: Such as network requests or file operations, where threads can wait for I/O completion without blocking the entire program.\n",
        "Responsiveness: Keeping the user interface responsive while background tasks run.\n",
        "  - Concurrency: Performing multiple tasks seemingly simultaneously to improve perceived performance."
      ],
      "metadata": {
        "id": "rxElOJz9yzhG"
      }
    },
    {
      "cell_type": "code",
      "source": [
        "# 1. How can you open a file for writing in Python and write a string to it?\n",
        "\n",
        "with open(\"file1.txt\", \"w\") as f:\n",
        "    f.write(\"Hello, this is Python writing to a file!\")\n"
      ],
      "metadata": {
        "id": "ExhK48nF33P1"
      },
      "execution_count": 6,
      "outputs": []
    },
    {
      "cell_type": "code",
      "source": [
        "# 2. Write a Python program to read the contents of a file and print each line?\n",
        "\n",
        "with open(\"file1.txt\", \"r\") as f:\n",
        "    for line in f:\n",
        "        print(line.strip())"
      ],
      "metadata": {
        "colab": {
          "base_uri": "https://localhost:8080/"
        },
        "id": "kqOtzJoMj7_J",
        "outputId": "be22e400-b3b7-4cbd-99c6-d62e3c37fd79"
      },
      "execution_count": 7,
      "outputs": [
        {
          "output_type": "stream",
          "name": "stdout",
          "text": [
            "Hello, this is Python writing to a file!\n"
          ]
        }
      ]
    },
    {
      "cell_type": "code",
      "source": [
        "# 3. How would you handle a case where the file doesn't exist while trying to open it for reading?\n",
        "\n",
        "try:\n",
        "    with open(\"nofile.txt\", \"r\") as f:\n",
        "        print(f.read())\n",
        "except FileNotFoundError:\n",
        "    print(\"File not found!\")"
      ],
      "metadata": {
        "colab": {
          "base_uri": "https://localhost:8080/"
        },
        "id": "Tsqe318jkAmL",
        "outputId": "963ac4fb-673a-4737-8189-250fadb0e045"
      },
      "execution_count": 8,
      "outputs": [
        {
          "output_type": "stream",
          "name": "stdout",
          "text": [
            "File not found!\n"
          ]
        }
      ]
    },
    {
      "cell_type": "code",
      "source": [
        "# 4. Write a Python script that reads from one file and writes its content to another file?\n",
        "\n",
        "with open(\"file1.txt\", \"r\") as src, open(\"file2.txt\", \"w\") as dest:\n",
        "    dest.write(src.read())"
      ],
      "metadata": {
        "id": "ooTg9ApjkGgk"
      },
      "execution_count": 10,
      "outputs": []
    },
    {
      "cell_type": "code",
      "source": [
        "# 5. How would you catch and handle division by zero error in Python?\n",
        "\n",
        "try:\n",
        "    result = 10 / 0\n",
        "except ZeroDivisionError:\n",
        "    print(\"Cannot divide by zero!\")"
      ],
      "metadata": {
        "colab": {
          "base_uri": "https://localhost:8080/"
        },
        "id": "fj56cwKKkK-P",
        "outputId": "18c0142f-0640-4104-9ce5-8478758512de"
      },
      "execution_count": 11,
      "outputs": [
        {
          "output_type": "stream",
          "name": "stdout",
          "text": [
            "Cannot divide by zero!\n"
          ]
        }
      ]
    },
    {
      "cell_type": "code",
      "source": [
        "# 6. Write a Python program that logs an error message to a log file when a division by zero exception occurs?\n",
        "\n",
        "import logging\n",
        "logging.basicConfig(filename=\"errors.log\", level=logging.ERROR)\n",
        "\n",
        "try:\n",
        "    x = 5 / 0\n",
        "except ZeroDivisionError as e:\n",
        "    logging.error(\"Division by zero error: %s\", e)"
      ],
      "metadata": {
        "colab": {
          "base_uri": "https://localhost:8080/"
        },
        "id": "rPzN-LqWkOOU",
        "outputId": "4befec6c-ab45-4cb6-90ea-237eff8136d4"
      },
      "execution_count": 12,
      "outputs": [
        {
          "output_type": "stream",
          "name": "stderr",
          "text": [
            "ERROR:root:Division by zero error: division by zero\n"
          ]
        }
      ]
    },
    {
      "cell_type": "code",
      "source": [
        "# 7. How do you log information at different levels (INFO, ERROR, WARNING) in Python using the logging module?\n",
        "\n",
        "import logging\n",
        "\n",
        "logging.basicConfig(level=logging.DEBUG)\n",
        "\n",
        "logging.info(\"This is info\")\n",
        "logging.warning(\"This is a warning\")\n",
        "logging.error(\"This is an error\")"
      ],
      "metadata": {
        "colab": {
          "base_uri": "https://localhost:8080/"
        },
        "id": "-3BLT9mjkSHz",
        "outputId": "c6b22c29-be97-4033-eabf-42104798e79a"
      },
      "execution_count": 13,
      "outputs": [
        {
          "output_type": "stream",
          "name": "stderr",
          "text": [
            "WARNING:root:This is a warning\n",
            "ERROR:root:This is an error\n"
          ]
        }
      ]
    },
    {
      "cell_type": "code",
      "source": [
        "# 8. Write a program to handle a file opening error using exception handling?\n",
        "\n",
        "try:\n",
        "    with open(\"unknown.txt\", \"r\") as f:\n",
        "        print(f.read())\n",
        "except OSError as e:\n",
        "    print(\"Error opening file:\", e)"
      ],
      "metadata": {
        "colab": {
          "base_uri": "https://localhost:8080/"
        },
        "id": "INi9RUAUkWtW",
        "outputId": "1176bec3-9d17-404c-ba7c-122804d3c3f2"
      },
      "execution_count": 14,
      "outputs": [
        {
          "output_type": "stream",
          "name": "stdout",
          "text": [
            "Error opening file: [Errno 2] No such file or directory: 'unknown.txt'\n"
          ]
        }
      ]
    },
    {
      "cell_type": "code",
      "source": [
        "# 9. How can you read a file line by line and store its content in a list in Python?\n",
        "\n",
        "with open(\"file1.txt\", \"r\") as f:\n",
        "    lines = f.readlines()\n",
        "\n",
        "print(lines)"
      ],
      "metadata": {
        "colab": {
          "base_uri": "https://localhost:8080/"
        },
        "id": "HNUgMrypkcTo",
        "outputId": "8be5b3c8-7dcd-4cfe-97f2-54aa55529c51"
      },
      "execution_count": 15,
      "outputs": [
        {
          "output_type": "stream",
          "name": "stdout",
          "text": [
            "['Hello, this is Python writing to a file!']\n"
          ]
        }
      ]
    },
    {
      "cell_type": "code",
      "source": [
        "# 10. How can you append data to an existing file in Python?\n",
        "\n",
        "with open(\"file1.txt\", \"a\") as f:\n",
        "    f.write(\"\\nThis is appended text.\")"
      ],
      "metadata": {
        "id": "QNEYxH8ekfnX"
      },
      "execution_count": 16,
      "outputs": []
    },
    {
      "cell_type": "code",
      "source": [
        "# 11. Write a Python program that uses a try-except block to handle an error when attempting to access a dictionary key that doesn't exist?\n",
        "\n",
        "data = {\"name\": \"Ragul\"}\n",
        "\n",
        "try:\n",
        "    print(data[\"age\"])\n",
        "except KeyError:\n",
        "    print(\"Key not found in dictionary!\")"
      ],
      "metadata": {
        "colab": {
          "base_uri": "https://localhost:8080/"
        },
        "id": "5A8P-7XgkiIB",
        "outputId": "a155e837-a31d-43fb-bded-c92da336cde5"
      },
      "execution_count": 17,
      "outputs": [
        {
          "output_type": "stream",
          "name": "stdout",
          "text": [
            "Key not found in dictionary!\n"
          ]
        }
      ]
    },
    {
      "cell_type": "code",
      "source": [
        "# 12. Write a program that demonstrates using multiple except blocks to handle different types of exceptions?\n",
        "\n",
        "try:\n",
        "    num = int(\"abc\")    # ValueError\n",
        "    print(10 / 0)       # ZeroDivisionError\n",
        "except ValueError:\n",
        "    print(\"Invalid number conversion!\")\n",
        "except ZeroDivisionError:\n",
        "    print(\"Cannot divide by zero!\")"
      ],
      "metadata": {
        "colab": {
          "base_uri": "https://localhost:8080/"
        },
        "id": "2-iJ-xf6kmzx",
        "outputId": "52671216-d4ab-416f-b589-17696fcf18f2"
      },
      "execution_count": 18,
      "outputs": [
        {
          "output_type": "stream",
          "name": "stdout",
          "text": [
            "Invalid number conversion!\n"
          ]
        }
      ]
    },
    {
      "cell_type": "code",
      "source": [
        "# 13 . How would you check if a file exists before attempting to read it in Python?\n",
        "\n",
        "import os\n",
        "\n",
        "if os.path.exists(\"file1.txt\"):\n",
        "    print(\"File exists\")\n",
        "else:\n",
        "    print(\"File not found\")"
      ],
      "metadata": {
        "colab": {
          "base_uri": "https://localhost:8080/"
        },
        "id": "JhtjmpRblnSb",
        "outputId": "9cf3cc59-22bf-4514-d47f-caf70efb249d"
      },
      "execution_count": 19,
      "outputs": [
        {
          "output_type": "stream",
          "name": "stdout",
          "text": [
            "File exists\n"
          ]
        }
      ]
    },
    {
      "cell_type": "code",
      "source": [
        "# 14. Write a program that uses the logging module to log both informational and error messages?\n",
        "\n",
        "import logging\n",
        "\n",
        "logging.basicConfig(filename=\"app.log\", level=logging.INFO)\n",
        "\n",
        "logging.info(\"This is an info message\")\n",
        "logging.error(\"This is an error message\")"
      ],
      "metadata": {
        "colab": {
          "base_uri": "https://localhost:8080/"
        },
        "id": "ey9PTTkKlqpR",
        "outputId": "080dfa06-eba4-4f0d-84b0-73365e628d6f"
      },
      "execution_count": 20,
      "outputs": [
        {
          "output_type": "stream",
          "name": "stderr",
          "text": [
            "ERROR:root:This is an error message\n"
          ]
        }
      ]
    },
    {
      "cell_type": "code",
      "source": [
        "# 15. Write a Python program that prints the content of a file and handles the case when the file is empty?\n",
        "\n",
        "with open(\"file1.txt\", \"r\") as f:\n",
        "    content = f.read()\n",
        "    if not content:\n",
        "        print(\"File is empty\")\n",
        "    else:\n",
        "        print(content)"
      ],
      "metadata": {
        "colab": {
          "base_uri": "https://localhost:8080/"
        },
        "id": "ZD6rvZBhltiL",
        "outputId": "6c5eaff2-2e76-49f1-a0b9-b4ac91c8deca"
      },
      "execution_count": 21,
      "outputs": [
        {
          "output_type": "stream",
          "name": "stdout",
          "text": [
            "Hello, this is Python writing to a file!\n",
            "This is appended text.\n"
          ]
        }
      ]
    },
    {
      "cell_type": "code",
      "source": [
        "# 16. Demonstrate how to use memory profiling to check the memory usage of a small program?\n",
        "\n",
        "\n",
        "import tracemalloc\n",
        "\n",
        "def create_list():\n",
        "    tracemalloc.start()  # start tracking memory\n",
        "    nums = [i for i in range(1000000)]\n",
        "    print(\"List created with\", len(nums), \"items\")\n",
        "    current, peak = tracemalloc.get_traced_memory()\n",
        "    print(f\"Current memory usage: {current / 1024 / 1024:.2f} MB\")\n",
        "    print(f\"Peak memory usage: {peak / 1024 / 1024:.2f} MB\")\n",
        "    tracemalloc.stop()\n",
        "\n",
        "create_list()"
      ],
      "metadata": {
        "colab": {
          "base_uri": "https://localhost:8080/"
        },
        "id": "eprySoo0lxmF",
        "outputId": "9599a01b-46e8-499e-a3ba-47bacabcacba"
      },
      "execution_count": 40,
      "outputs": [
        {
          "output_type": "stream",
          "name": "stdout",
          "text": [
            "List created with 1000000 items\n",
            "Current memory usage: 38.57 MB\n",
            "Peak memory usage: 38.57 MB\n"
          ]
        }
      ]
    },
    {
      "cell_type": "code",
      "source": [
        "# 17. Write a Python program to create and write a list of numbers to a file, one number per line?\n",
        "\n",
        "\n",
        "numbers = [1, 2, 3, 4, 5]\n",
        "\n",
        "with open(\"numbers.txt\", \"w\") as f:\n",
        "    for n in numbers:\n",
        "        f.write(str(n) + \"\\n\")\n",
        "\n",
        "print(\"Numbers written to numbers.txt\")"
      ],
      "metadata": {
        "colab": {
          "base_uri": "https://localhost:8080/"
        },
        "id": "7VYawYy6l1Uo",
        "outputId": "fa956cd0-cc67-4a98-a936-5fa24fe6365e"
      },
      "execution_count": 35,
      "outputs": [
        {
          "output_type": "stream",
          "name": "stdout",
          "text": [
            "Numbers written to numbers.txt\n"
          ]
        }
      ]
    },
    {
      "cell_type": "code",
      "source": [
        "# 18. How would you implement a basic logging setup that logs to a file with rotation after IMB?\n",
        "\n",
        "import logging\n",
        "from logging.handlers import RotatingFileHandler\n",
        "\n",
        "handler = RotatingFileHandler(\"rotate.log\", maxBytes=200, backupCount=3)\n",
        "logging.basicConfig(handlers=[handler], level=logging.INFO)\n",
        "\n",
        "for i in range(30):\n",
        "    logging.info(\"Log number %d\", i)\n",
        "\n",
        "print(\"Logs written to rotate.log (with rotation). Check files rotate.log, rotate.log.1, etc.\")"
      ],
      "metadata": {
        "colab": {
          "base_uri": "https://localhost:8080/"
        },
        "id": "1kFgyH1Ql7a_",
        "outputId": "295ce082-fe7e-483c-b758-0c2317948f7d"
      },
      "execution_count": 38,
      "outputs": [
        {
          "output_type": "stream",
          "name": "stdout",
          "text": [
            "Logs written to rotate.log (with rotation). Check files rotate.log, rotate.log.1, etc.\n"
          ]
        }
      ]
    },
    {
      "cell_type": "code",
      "source": [
        "# 19. Write a program that handles both IndexError and KeyError using a try-except block?\n",
        "\n",
        "try:\n",
        "    lst = [1, 2, 3]\n",
        "    print(lst[5])        # IndexError\n",
        "    d = {\"a\": 1}\n",
        "    print(d[\"b\"])        # KeyError\n",
        "except IndexError:\n",
        "    print(\"Index out of range!\")\n",
        "except KeyError:\n",
        "    print(\"Key not found!\")"
      ],
      "metadata": {
        "colab": {
          "base_uri": "https://localhost:8080/"
        },
        "id": "RrEtLpunl-3j",
        "outputId": "154347d0-90a2-4c7d-fe6d-c3c9566ab61f"
      },
      "execution_count": 41,
      "outputs": [
        {
          "output_type": "stream",
          "name": "stdout",
          "text": [
            "Index out of range!\n"
          ]
        }
      ]
    },
    {
      "cell_type": "code",
      "source": [
        "# 20. How would you open a file and read its contents using a context manager in Python?\n",
        "\n",
        "with open(\"file1.txt\", \"r\") as f:\n",
        "    print(f.read())"
      ],
      "metadata": {
        "colab": {
          "base_uri": "https://localhost:8080/"
        },
        "id": "FyVdhKeRmCNn",
        "outputId": "2cdcea30-6d17-4991-cc9e-e8028732a14f"
      },
      "execution_count": 42,
      "outputs": [
        {
          "output_type": "stream",
          "name": "stdout",
          "text": [
            "Hello, this is Python writing to a file!\n",
            "This is appended text.\n"
          ]
        }
      ]
    },
    {
      "cell_type": "code",
      "source": [
        "# 21. Write a Python program that reads a file and prints the number of occurrences of a specific ward?\n",
        "\n",
        "word = \"Python\"\n",
        "count = 0\n",
        "\n",
        "with open(\"file1.txt\", \"r\") as f:\n",
        "    for line in f:\n",
        "        count += line.split().count(word)\n",
        "\n",
        "print(f\"'{word}' occurred {count} times\")"
      ],
      "metadata": {
        "colab": {
          "base_uri": "https://localhost:8080/"
        },
        "id": "MSpj3B-umGJ9",
        "outputId": "de58a255-fbec-44ce-dc9f-eabf0af74ccc"
      },
      "execution_count": 43,
      "outputs": [
        {
          "output_type": "stream",
          "name": "stdout",
          "text": [
            "'Python' occurred 1 times\n"
          ]
        }
      ]
    },
    {
      "cell_type": "code",
      "source": [
        "# 22. How can you check if a file is empty before attempting to read its contents?\n",
        "\n",
        "import os\n",
        "\n",
        "if os.stat(\"file1.txt\").st_size == 0:\n",
        "    print(\"File is empty\")\n",
        "else:\n",
        "    print(\"File has data\")"
      ],
      "metadata": {
        "colab": {
          "base_uri": "https://localhost:8080/"
        },
        "id": "mns4gynYmJzD",
        "outputId": "f851a21d-0155-4489-a250-7220884945f1"
      },
      "execution_count": 44,
      "outputs": [
        {
          "output_type": "stream",
          "name": "stdout",
          "text": [
            "File has data\n"
          ]
        }
      ]
    },
    {
      "cell_type": "code",
      "source": [
        "# 23. Write a Python program that writes to a log file when an error occurs during file handling?\n",
        "\n",
        "import logging\n",
        "logging.basicConfig(filename=\"file_errors.log\", level=logging.ERROR)\n",
        "\n",
        "try:\n",
        "    with open(\"missing.txt\", \"r\") as f:\n",
        "        print(f.read())\n",
        "except Exception as e:\n",
        "    logging.error(\"Error while handling file: %s\", e)"
      ],
      "metadata": {
        "colab": {
          "base_uri": "https://localhost:8080/"
        },
        "id": "SgrezetRmNbm",
        "outputId": "fbf6d7b3-f72d-40e4-83e0-96927e3de9e6"
      },
      "execution_count": 45,
      "outputs": [
        {
          "output_type": "stream",
          "name": "stderr",
          "text": [
            "ERROR:root:Error while handling file: [Errno 2] No such file or directory: 'missing.txt'\n"
          ]
        }
      ]
    }
  ]
}